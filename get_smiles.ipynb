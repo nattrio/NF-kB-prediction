{
  "nbformat": 4,
  "nbformat_minor": 0,
  "metadata": {
    "orig_nbformat": 2,
    "kernelspec": {
      "name": "python3",
      "display_name": "Python 3"
    },
    "colab": {
      "name": "get_smiles.ipynb",
      "provenance": [],
      "collapsed_sections": [],
      "include_colab_link": true
    }
  },
  "cells": [
    {
      "cell_type": "markdown",
      "metadata": {
        "id": "view-in-github",
        "colab_type": "text"
      },
      "source": [
        "<a href=\"https://colab.research.google.com/github/nattrio/NF-kB-prediction/blob/main/get_smiles.ipynb\" target=\"_parent\"><img src=\"https://colab.research.google.com/assets/colab-badge.svg\" alt=\"Open In Colab\"/></a>"
      ]
    },
    {
      "cell_type": "code",
      "metadata": {
        "id": "B_umALJ0zHmd",
        "colab": {
          "base_uri": "https://localhost:8080/",
          "height": 252
        },
        "outputId": "430fac0e-33d0-4f67-b8a0-4bc7a727d6b9"
      },
      "source": [
        "!pip install PyDrive\n",
        "from pydrive.auth import GoogleAuth\n",
        "from pydrive.drive import GoogleDrive\n",
        "from google.colab import auth\n",
        "from oauth2client.client import GoogleCredentials"
      ],
      "execution_count": null,
      "outputs": [
        {
          "output_type": "stream",
          "text": [
            "Requirement already satisfied: PyDrive in /usr/local/lib/python3.6/dist-packages (1.3.1)\n",
            "Requirement already satisfied: PyYAML>=3.0 in /usr/local/lib/python3.6/dist-packages (from PyDrive) (3.13)\n",
            "Requirement already satisfied: oauth2client>=4.0.0 in /usr/local/lib/python3.6/dist-packages (from PyDrive) (4.1.3)\n",
            "Requirement already satisfied: google-api-python-client>=1.2 in /usr/local/lib/python3.6/dist-packages (from PyDrive) (1.7.12)\n",
            "Requirement already satisfied: rsa>=3.1.4 in /usr/local/lib/python3.6/dist-packages (from oauth2client>=4.0.0->PyDrive) (4.6)\n",
            "Requirement already satisfied: pyasn1-modules>=0.0.5 in /usr/local/lib/python3.6/dist-packages (from oauth2client>=4.0.0->PyDrive) (0.2.8)\n",
            "Requirement already satisfied: pyasn1>=0.1.7 in /usr/local/lib/python3.6/dist-packages (from oauth2client>=4.0.0->PyDrive) (0.4.8)\n",
            "Requirement already satisfied: six>=1.6.1 in /usr/local/lib/python3.6/dist-packages (from oauth2client>=4.0.0->PyDrive) (1.15.0)\n",
            "Requirement already satisfied: httplib2>=0.9.1 in /usr/local/lib/python3.6/dist-packages (from oauth2client>=4.0.0->PyDrive) (0.17.4)\n",
            "Requirement already satisfied: uritemplate<4dev,>=3.0.0 in /usr/local/lib/python3.6/dist-packages (from google-api-python-client>=1.2->PyDrive) (3.0.1)\n",
            "Requirement already satisfied: google-auth-httplib2>=0.0.3 in /usr/local/lib/python3.6/dist-packages (from google-api-python-client>=1.2->PyDrive) (0.0.4)\n",
            "Requirement already satisfied: google-auth>=1.4.1 in /usr/local/lib/python3.6/dist-packages (from google-api-python-client>=1.2->PyDrive) (1.17.2)\n",
            "Requirement already satisfied: setuptools>=40.3.0 in /usr/local/lib/python3.6/dist-packages (from google-auth>=1.4.1->google-api-python-client>=1.2->PyDrive) (49.2.0)\n",
            "Requirement already satisfied: cachetools<5.0,>=2.0.0 in /usr/local/lib/python3.6/dist-packages (from google-auth>=1.4.1->google-api-python-client>=1.2->PyDrive) (4.1.1)\n"
          ],
          "name": "stdout"
        }
      ]
    },
    {
      "cell_type": "code",
      "metadata": {
        "id": "yXEBpGGzzPoc"
      },
      "source": [
        "auth.authenticate_user()\n",
        "gauth = GoogleAuth()\n",
        "gauth.credentials = GoogleCredentials.get_application_default()\n",
        "drive = GoogleDrive(gauth)"
      ],
      "execution_count": null,
      "outputs": []
    },
    {
      "cell_type": "code",
      "metadata": {
        "id": "vRn24Wtg0NGX"
      },
      "source": [
        "downloaded = drive.CreateFile({'id':\"1qhUkr8R7omHFN_2KRQlIbrAAtkgNN5C2\"})   # replace the id with id of file you want to access\n",
        "downloaded.GetContentFile('GeneID_4790_bioactivity_gene.csv')        # replace the file name with your file"
      ],
      "execution_count": null,
      "outputs": []
    },
    {
      "cell_type": "code",
      "metadata": {
        "tags": [],
        "id": "AvkoM3WnyO2k",
        "colab": {
          "base_uri": "https://localhost:8080/",
          "height": 571
        },
        "outputId": "acc4c880-f7e8-4445-8e96-7a7e8230a1d3"
      },
      "source": [
        "import pandas as pd\n",
        "df = pd.read_csv(\"GeneID_4790_bioactivity_gene.csv\", header=0)\n",
        "df.info()\n",
        "# df.groupby(['activity']).count()"
      ],
      "execution_count": null,
      "outputs": [
        {
          "output_type": "stream",
          "text": [
            "/usr/local/lib/python3.6/dist-packages/IPython/core/interactiveshell.py:2718: DtypeWarning: Columns (14,21) have mixed types.Specify dtype option on import or set low_memory=False.\n",
            "  interactivity=interactivity, compiler=compiler, result=result)\n"
          ],
          "name": "stderr"
        },
        {
          "output_type": "stream",
          "text": [
            "<class 'pandas.core.frame.DataFrame'>\n",
            "RangeIndex: 238850 entries, 0 to 238849\n",
            "Data columns (total 24 columns):\n",
            " #   Column      Non-Null Count   Dtype  \n",
            "---  ------      --------------   -----  \n",
            " 0   baid        238850 non-null  int64  \n",
            " 1   activity    238850 non-null  object \n",
            " 2   aid         238850 non-null  int64  \n",
            " 3   sid         238850 non-null  int64  \n",
            " 4   mid         238850 non-null  int64  \n",
            " 5   cid         238850 non-null  int64  \n",
            " 6   geneid      238850 non-null  int64  \n",
            " 7   taxid       238850 non-null  int64  \n",
            " 8   pmid        1036 non-null    float64\n",
            " 9   aidtype     238850 non-null  object \n",
            " 10  aidmdate    238850 non-null  int64  \n",
            " 11  hasdrc      238850 non-null  int64  \n",
            " 12  rnai        238850 non-null  int64  \n",
            " 13  protacxn    238850 non-null  object \n",
            " 14  acname      25579 non-null   object \n",
            " 15  acvalue     4679 non-null    float64\n",
            " 16  aidsrcname  238850 non-null  object \n",
            " 17  aidname     238850 non-null  object \n",
            " 18  cmpdname    238850 non-null  object \n",
            " 19  targetname  238850 non-null  object \n",
            " 20  targeturl   238850 non-null  object \n",
            " 21  dois        1036 non-null    object \n",
            " 22  ecs         0 non-null       float64\n",
            " 23  repacxn     238850 non-null  object \n",
            "dtypes: float64(3), int64(10), object(11)\n",
            "memory usage: 43.7+ MB\n"
          ],
          "name": "stdout"
        }
      ]
    },
    {
      "cell_type": "code",
      "metadata": {
        "tags": [],
        "id": "Kp7-EDFdyO2o"
      },
      "source": [
        "df = df.loc[df['activity'].isin([\"Active\", \"Inactive\"])]\n",
        "# df.info()"
      ],
      "execution_count": null,
      "outputs": []
    },
    {
      "cell_type": "code",
      "metadata": {
        "id": "z217tI_cyO2r"
      },
      "source": [
        "def isActive(str):\n",
        "    if str == \"Active\":\n",
        "        return 1\n",
        "    elif str == \"Inactive\": \n",
        "        return 0"
      ],
      "execution_count": null,
      "outputs": []
    },
    {
      "cell_type": "code",
      "metadata": {
        "tags": [],
        "id": "za32CNHvyO2u",
        "colab": {
          "base_uri": "https://localhost:8080/",
          "height": 34
        },
        "outputId": "5685dbb7-7211-4b81-cd05-846e92635381"
      },
      "source": [
        "df[\"class\"] = df[\"activity\"]\n",
        "class_data = df['class'].to_numpy()\n",
        "\n",
        "for i in range(len(class_data)):\n",
        "    class_data[i] = isActive(class_data[i])\n",
        "\n",
        "print(class_data)"
      ],
      "execution_count": null,
      "outputs": [
        {
          "output_type": "stream",
          "text": [
            "[1 1 1 ... 0 0 0]\n"
          ],
          "name": "stdout"
        }
      ]
    },
    {
      "cell_type": "code",
      "metadata": {
        "id": "TB1Aq6c0yO2w"
      },
      "source": [
        "df = df[[\"cid\", \"class\"]]"
      ],
      "execution_count": null,
      "outputs": []
    },
    {
      "cell_type": "code",
      "metadata": {
        "tags": [],
        "id": "4qEt-MphyO2z",
        "colab": {
          "base_uri": "https://localhost:8080/",
          "height": 185
        },
        "outputId": "fb5adbeb-5675-4054-ff25-55de5cc469a0"
      },
      "source": [
        "!pip install pubchempy\n",
        "import os\n",
        "import time\n",
        "import pandas as pd\n",
        "import pubchempy as pcp\n",
        "print(os.getcwd())"
      ],
      "execution_count": null,
      "outputs": [
        {
          "output_type": "stream",
          "text": [
            "Collecting pubchempy\n",
            "  Downloading https://files.pythonhosted.org/packages/aa/fb/8de3aa9804b614dbc8dc5c16ed061d819cc360e0ddecda3dcd01c1552339/PubChemPy-1.0.4.tar.gz\n",
            "Building wheels for collected packages: pubchempy\n",
            "  Building wheel for pubchempy (setup.py) ... \u001b[?25l\u001b[?25hdone\n",
            "  Created wheel for pubchempy: filename=PubChemPy-1.0.4-cp36-none-any.whl size=13825 sha256=978720fee1a669d4a2d2532a00074595cb9af94c6589793e4306576031f090b9\n",
            "  Stored in directory: /root/.cache/pip/wheels/10/4d/51/6b843681a9a5aef35f0d0fbce243de46f85080036e16118752\n",
            "Successfully built pubchempy\n",
            "Installing collected packages: pubchempy\n",
            "Successfully installed pubchempy-1.0.4\n",
            "/content\n"
          ],
          "name": "stdout"
        }
      ]
    },
    {
      "cell_type": "code",
      "metadata": {
        "id": "iTmwa_lq0Gli"
      },
      "source": [
        "# df_active = df.loc[df['class'] == 1].tail(312)\n",
        "# df_active"
      ],
      "execution_count": null,
      "outputs": []
    },
    {
      "cell_type": "code",
      "metadata": {
        "id": "w0OhR0xO0LXH",
        "colab": {
          "base_uri": "https://localhost:8080/",
          "height": 402
        },
        "outputId": "9a435a96-a133-4def-8384-197b5d343b7d"
      },
      "source": [
        "# 228790\n",
        "df_inactive = df.loc[df['class'] == 0].tail(98790)\n",
        "df_inactive = df_inactive.head(30000)\n",
        "df_inactive"
      ],
      "execution_count": null,
      "outputs": [
        {
          "output_type": "execute_result",
          "data": {
            "text/html": [
              "<div>\n",
              "<style scoped>\n",
              "    .dataframe tbody tr th:only-of-type {\n",
              "        vertical-align: middle;\n",
              "    }\n",
              "\n",
              "    .dataframe tbody tr th {\n",
              "        vertical-align: top;\n",
              "    }\n",
              "\n",
              "    .dataframe thead th {\n",
              "        text-align: right;\n",
              "    }\n",
              "</style>\n",
              "<table border=\"1\" class=\"dataframe\">\n",
              "  <thead>\n",
              "    <tr style=\"text-align: right;\">\n",
              "      <th></th>\n",
              "      <th>cid</th>\n",
              "      <th>class</th>\n",
              "    </tr>\n",
              "  </thead>\n",
              "  <tbody>\n",
              "    <tr>\n",
              "      <th>139458</th>\n",
              "      <td>2079240</td>\n",
              "      <td>0</td>\n",
              "    </tr>\n",
              "    <tr>\n",
              "      <th>139459</th>\n",
              "      <td>2079294</td>\n",
              "      <td>0</td>\n",
              "    </tr>\n",
              "    <tr>\n",
              "      <th>139460</th>\n",
              "      <td>2079334</td>\n",
              "      <td>0</td>\n",
              "    </tr>\n",
              "    <tr>\n",
              "      <th>139461</th>\n",
              "      <td>2079393</td>\n",
              "      <td>0</td>\n",
              "    </tr>\n",
              "    <tr>\n",
              "      <th>139462</th>\n",
              "      <td>2079436</td>\n",
              "      <td>0</td>\n",
              "    </tr>\n",
              "    <tr>\n",
              "      <th>...</th>\n",
              "      <td>...</td>\n",
              "      <td>...</td>\n",
              "    </tr>\n",
              "    <tr>\n",
              "      <th>169453</th>\n",
              "      <td>11958699</td>\n",
              "      <td>0</td>\n",
              "    </tr>\n",
              "    <tr>\n",
              "      <th>169454</th>\n",
              "      <td>11958701</td>\n",
              "      <td>0</td>\n",
              "    </tr>\n",
              "    <tr>\n",
              "      <th>169455</th>\n",
              "      <td>11958702</td>\n",
              "      <td>0</td>\n",
              "    </tr>\n",
              "    <tr>\n",
              "      <th>169456</th>\n",
              "      <td>11958708</td>\n",
              "      <td>0</td>\n",
              "    </tr>\n",
              "    <tr>\n",
              "      <th>169457</th>\n",
              "      <td>11958711</td>\n",
              "      <td>0</td>\n",
              "    </tr>\n",
              "  </tbody>\n",
              "</table>\n",
              "<p>30000 rows × 2 columns</p>\n",
              "</div>"
            ],
            "text/plain": [
              "             cid class\n",
              "139458   2079240     0\n",
              "139459   2079294     0\n",
              "139460   2079334     0\n",
              "139461   2079393     0\n",
              "139462   2079436     0\n",
              "...          ...   ...\n",
              "169453  11958699     0\n",
              "169454  11958701     0\n",
              "169455  11958702     0\n",
              "169456  11958708     0\n",
              "169457  11958711     0\n",
              "\n",
              "[30000 rows x 2 columns]"
            ]
          },
          "metadata": {
            "tags": []
          },
          "execution_count": 17
        }
      ]
    },
    {
      "cell_type": "code",
      "metadata": {
        "id": "UD9R-XYe0Qgj"
      },
      "source": [
        "def to_smiles(data):\n",
        "    smiles = []\n",
        "    i = 0\n",
        "    for c in data.cid:\n",
        "        out = pcp.Compound.from_cid(c)\n",
        "        smiles.append(out.isomeric_smiles)\n",
        "        #print out.cid\n",
        "        #print out.isomeric_smiles\n",
        "        i = i+1\n",
        "        if i % 100 == 0:\n",
        "          print(i)\n",
        "        elif i % 10 == 0:\n",
        "          print(\"*\", end = '')\n",
        "        else:\n",
        "          print(\".\", end = '')\n",
        "        # time.sleep(0.5)\n",
        "    return smiles"
      ],
      "execution_count": null,
      "outputs": []
    },
    {
      "cell_type": "code",
      "metadata": {
        "id": "mJBVrbj80RoX"
      },
      "source": [
        "# df_active['smiles'] = to_smiles(df_active)\n",
        "# df_active"
      ],
      "execution_count": null,
      "outputs": []
    },
    {
      "cell_type": "code",
      "metadata": {
        "id": "fZiB2Vwy0VO1",
        "colab": {
          "base_uri": "https://localhost:8080/",
          "height": 521
        },
        "outputId": "9bfef2b7-964a-40ea-84ab-0e89ff9d4a78"
      },
      "source": [
        "df_inactive['smiles'] = to_smiles(df_inactive)\n",
        "df_inactive"
      ],
      "execution_count": null,
      "outputs": [
        {
          "output_type": "stream",
          "text": [
            ".........*.........*.........*.........*.........*.........*.........*.........*.........*.........100\n",
            ".........*.........*.........*.........*.........*.........*.........*.........*.........*.........200\n",
            ".........*.........*.........*.........*.........*.........*.........*.........*.........*.........300\n",
            ".........*.........*.........*.........*.........*.........*.........*.........*.........*.........400\n",
            ".........*.........*.........*.........*.........*.........*.........*.........*.........*.........500\n",
            ".........*.........*.........*.........*.........*.........*.........*.........*.........*.........600\n",
            ".........*.........*.........*.........*.........*.........*.........*.........*.........*.........700\n",
            ".........*.........*.........*.........*.........*.........*.........*.........*.........*.........800\n",
            ".........*.........*.........*.........*.........*.........*.........*.........*.........*.........900\n",
            ".........*.........*.........*.........*.........*.........*.........*.........*.........*.........1000\n",
            ".........*.........*.........*.........*.........*.........*.........*.........*.........*.........1100\n",
            ".........*.........*.........*.........*.........*.........*.........*.........*.........*.........1200\n",
            ".........*.........*.........*.........*.........*.........*.........*.........*.........*.........1300\n",
            ".........*.........*.........*.........*.........*.........*.........*.........*.........*.........1400\n",
            ".........*.........*.........*.........*.........*.........*.........*.........*.........*.........1500\n",
            ".........*.........*.........*.........*.........*.........*.........*.........*.........*.........1600\n",
            ".........*.........*.........*.........*.........*.........*.........*.........*.........*.........1700\n",
            ".........*.........*.........*.........*.........*.........*.........*.........*.........*.........1800\n",
            ".........*.........*.........*.........*.........*.........*.........*.........*.........*.........1900\n",
            ".........*.........*.........*.........*.........*.........*.........*.........*.........*.........2000\n",
            ".........*.........*.........*.........*.........*.........*.........*.........*.........*.........2100\n",
            ".........*.........*.........*.........*.........*.........*.........*.........*.........*.........2200\n",
            ".........*.........*.........*.........*.........*.........*.........*.........*.........*.........2300\n",
            ".........*.........*.........*.........*.........*.........*.........*.........*.........*.........2400\n",
            ".........*.........*.........*.........*.........*.........*.........*.........*.........*.........2500\n",
            ".........*.........*.........*.........*.........*.........*.........*.........*.........*.........2600\n",
            ".........*.........*.........*.........*.........*.........*.........*.........*.........*.........2700\n",
            ".........*.........*.........*.........*.........*.........*.........*.........*.........*.........2800\n",
            ".........*.........*.........*.........*.........*.........*.........*.........*.........*.........2900\n",
            ".........*.........*.........*.........*.........*.........*.........*.........*.........*.........3000\n"
          ],
          "name": "stdout"
        }
      ]
    },
    {
      "cell_type": "code",
      "metadata": {
        "id": "0RH4OLdA1HPy"
      },
      "source": [
        "from google.colab import files\n",
        "# df_active.to_csv('df_active.csv', index=False)\n",
        "df_inactive.to_csv('df_inactive.csv', index=False)\n",
        "# files.download('df_active.csv')\n",
        "files.download('df_inactive.csv')"
      ],
      "execution_count": null,
      "outputs": []
    }
  ]
}