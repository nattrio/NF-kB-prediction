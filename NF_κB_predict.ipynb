{
  "nbformat": 4,
  "nbformat_minor": 0,
  "metadata": {
    "kernelspec": {
      "display_name": "Python 3",
      "language": "python",
      "name": "python3"
    },
    "language_info": {
      "codemirror_mode": {
        "name": "ipython",
        "version": 3
      },
      "file_extension": ".py",
      "mimetype": "text/x-python",
      "name": "python",
      "nbconvert_exporter": "python",
      "pygments_lexer": "ipython3",
      "version": "3.7.6"
    },
    "colab": {
      "name": "NF-κB_predict.ipynb",
      "provenance": [],
      "include_colab_link": true
    }
  },
  "cells": [
    {
      "cell_type": "markdown",
      "metadata": {
        "id": "view-in-github",
        "colab_type": "text"
      },
      "source": [
        "<a href=\"https://colab.research.google.com/github/nattrio/NF-kB-prediction/blob/main/NF_%CE%BAB_predict.ipynb\" target=\"_parent\"><img src=\"https://colab.research.google.com/assets/colab-badge.svg\" alt=\"Open In Colab\"/></a>"
      ]
    },
    {
      "cell_type": "markdown",
      "metadata": {
        "id": "3P6z94aw--kC"
      },
      "source": [
        "# Workshop \n",
        "## Compound screening in drug discovery\n",
        "<img src=\"fig/research_intro.png\">"
      ]
    },
    {
      "cell_type": "markdown",
      "metadata": {
        "id": "e6xT4zEb--kF"
      },
      "source": [
        "## Step 1) Importing dataset"
      ]
    },
    {
      "cell_type": "code",
      "metadata": {
        "id": "j1x1WcKz--kF"
      },
      "source": [
        "import pandas as pd"
      ],
      "execution_count": null,
      "outputs": []
    },
    {
      "cell_type": "code",
      "metadata": {
        "id": "LU0oHoN7--kG"
      },
      "source": [
        "df_active=pd.read_csv('df_active.csv', header=0)"
      ],
      "execution_count": null,
      "outputs": []
    },
    {
      "cell_type": "code",
      "metadata": {
        "id": "bAZ1nJCK--kG"
      },
      "source": [
        "df_inactive=pd.read_csv('df_inactive.csv', header=0)"
      ],
      "execution_count": null,
      "outputs": []
    },
    {
      "cell_type": "code",
      "metadata": {
        "id": "SOrYuI-I--kG",
        "outputId": "1bc64d7e-b248-41c6-c977-dbe957306fd6"
      },
      "source": [
        "df_active.head()"
      ],
      "execution_count": null,
      "outputs": [
        {
          "output_type": "execute_result",
          "data": {
            "text/html": [
              "<div>\n",
              "<style scoped>\n",
              "    .dataframe tbody tr th:only-of-type {\n",
              "        vertical-align: middle;\n",
              "    }\n",
              "\n",
              "    .dataframe tbody tr th {\n",
              "        vertical-align: top;\n",
              "    }\n",
              "\n",
              "    .dataframe thead th {\n",
              "        text-align: right;\n",
              "    }\n",
              "</style>\n",
              "<table border=\"1\" class=\"dataframe\">\n",
              "  <thead>\n",
              "    <tr style=\"text-align: right;\">\n",
              "      <th></th>\n",
              "      <th>cid</th>\n",
              "      <th>class</th>\n",
              "      <th>smiles</th>\n",
              "    </tr>\n",
              "  </thead>\n",
              "  <tbody>\n",
              "    <tr>\n",
              "      <th>0</th>\n",
              "      <td>31307</td>\n",
              "      <td>1</td>\n",
              "      <td>C[C@]12C[C@@H]([C@]3([C@H]([C@@H]1C[C@H]([C@@]...</td>\n",
              "    </tr>\n",
              "    <tr>\n",
              "      <th>1</th>\n",
              "      <td>5074</td>\n",
              "      <td>1</td>\n",
              "      <td>CC1=C(C(=O)N2C=CSC2=N1)CCN3CCC(=C(C4=CC=C(C=C4...</td>\n",
              "    </tr>\n",
              "    <tr>\n",
              "      <th>2</th>\n",
              "      <td>5754</td>\n",
              "      <td>1</td>\n",
              "      <td>C[C@]12CCC(=O)C=C1CC[C@@H]3[C@@H]2[C@H](C[C@]4...</td>\n",
              "    </tr>\n",
              "    <tr>\n",
              "      <th>3</th>\n",
              "      <td>2708</td>\n",
              "      <td>1</td>\n",
              "      <td>C1=CC(=CC=C1CCCC(=O)O)N(CCCl)CCCl</td>\n",
              "    </tr>\n",
              "    <tr>\n",
              "      <th>4</th>\n",
              "      <td>2284</td>\n",
              "      <td>1</td>\n",
              "      <td>C1=CC(=CC=C1C(CC(=O)O)CN)Cl</td>\n",
              "    </tr>\n",
              "  </tbody>\n",
              "</table>\n",
              "</div>"
            ],
            "text/plain": [
              "     cid  class                                             smiles\n",
              "0  31307      1  C[C@]12C[C@@H]([C@]3([C@H]([C@@H]1C[C@H]([C@@]...\n",
              "1   5074      1  CC1=C(C(=O)N2C=CSC2=N1)CCN3CCC(=C(C4=CC=C(C=C4...\n",
              "2   5754      1  C[C@]12CCC(=O)C=C1CC[C@@H]3[C@@H]2[C@H](C[C@]4...\n",
              "3   2708      1                  C1=CC(=CC=C1CCCC(=O)O)N(CCCl)CCCl\n",
              "4   2284      1                        C1=CC(=CC=C1C(CC(=O)O)CN)Cl"
            ]
          },
          "metadata": {
            "tags": []
          },
          "execution_count": 4
        }
      ]
    },
    {
      "cell_type": "code",
      "metadata": {
        "id": "vMnn4LqF--kH"
      },
      "source": [
        "df1=df_active.sample(5312)"
      ],
      "execution_count": null,
      "outputs": []
    },
    {
      "cell_type": "code",
      "metadata": {
        "id": "p6CUPsWo--kH"
      },
      "source": [
        "df2=df_inactive.sample(100000)"
      ],
      "execution_count": null,
      "outputs": []
    },
    {
      "cell_type": "code",
      "metadata": {
        "id": "dTptRjmb--kI"
      },
      "source": [
        "df=pd.concat([df1, df2])"
      ],
      "execution_count": null,
      "outputs": []
    },
    {
      "cell_type": "code",
      "metadata": {
        "id": "0BlZ150q--kI"
      },
      "source": [
        "df = df.head(100000)"
      ],
      "execution_count": null,
      "outputs": []
    },
    {
      "cell_type": "markdown",
      "metadata": {
        "id": "glkuCA85--kI"
      },
      "source": [
        "## Step 2) Getting chemical fingerprints from chemical structures (smiles) with rdkit"
      ]
    },
    {
      "cell_type": "markdown",
      "metadata": {
        "id": "JdYGiU8S--kI"
      },
      "source": [
        "### Fingerprint\n",
        "- Apply a kernel to a molecule to generate a bit vector.\n",
        "- Each fingerprint bit corresponds to a fragment of the molecule.\n",
        "- Molecules that are similar have a lot of fragments in common.\n",
        "<img src=\"fig/fingerprint.png\">"
      ]
    },
    {
      "cell_type": "code",
      "metadata": {
        "tags": [],
        "id": "liTV7fhg--kJ"
      },
      "source": [
        "# conda install -c rdkit rdkit"
      ],
      "execution_count": null,
      "outputs": []
    },
    {
      "cell_type": "code",
      "metadata": {
        "id": "A1d_jKgI--kJ"
      },
      "source": [
        "from rdkit import Chem\n",
        "\n",
        "from datetime import datetime\n",
        "start = datetime.now()"
      ],
      "execution_count": null,
      "outputs": []
    },
    {
      "cell_type": "code",
      "metadata": {
        "id": "EkLUIxBi--kJ"
      },
      "source": [
        "mols = [ Chem.MolFromSmiles(x) for x in df['smiles'] ]"
      ],
      "execution_count": null,
      "outputs": []
    },
    {
      "cell_type": "code",
      "metadata": {
        "id": "sPGZilV0--kJ",
        "outputId": "bee3c335-3503-4bcb-b581-a19b934a0a0b"
      },
      "source": [
        "mols[0]"
      ],
      "execution_count": null,
      "outputs": [
        {
          "output_type": "execute_result",
          "data": {
            "image/png": "[encoded data removed]",
            "text/plain": [
              "<rdkit.Chem.rdchem.Mol at 0x1847c5ffbc0>"
            ]
          },
          "metadata": {
            "tags": []
          },
          "execution_count": 12
        }
      ]
    },
    {
      "cell_type": "code",
      "metadata": {
        "id": "7QIvgo9H--kK"
      },
      "source": [
        "fps = [ Chem.RDKFingerprint(x) for x in mols ]"
      ],
      "execution_count": null,
      "outputs": []
    },
    {
      "cell_type": "code",
      "metadata": {
        "id": "Y9kEXOpb--kK",
        "outputId": "006ec651-f190-4df4-8c0f-bc2bdaf7ce1d"
      },
      "source": [
        "fps[0].ToBitString()"
      ],
      "execution_count": null,
      "outputs": [
        {
          "output_type": "execute_result",
          "data": {
            "text/plain": [
              "'00001000000010000000000001010000000001000000100010001001100001010100000110110100000010000000101000010101000011001000001010010010010100000000011000000000010010001110001100100110000010001000000000101110000000011100001110000001000111000101000000100000000000010000010000011011001010100100000000000011001001000110110101000001000000000011000100100000111000000100100000000001100000000000000001001110000001011001010000101100000000001001100010010100110101010000010001001100100001110110010000110010000110000011011100001001010001000011010000000000100010001000110000000111001101000000000000010100100001001100110101010100101100001001010000000000100100000010100110100101100001100000010000001101000001001000001000000000100101100000100100010100010110010010000010000110000010000000000100100100001101000000000011111001000000000101100000001001101001100010010000100101011010110100001101001000000111000100001000000001101000001000000000010000010100010110011000000100001000011010011100000000000011110101000001010000000000000010100000000100100000000010000001010011000100000000000000001110100000001100100001001001000000001100000011000000100000110110000011000000000001000000000011001001000000100101100011010001110000000100100010001100001000000001010000010011010001100000000000010001100001000100001100001000000010111000001000101011011110010001100100000000000001000011111110110000010010001011000001010100001000011000111000000000100001000011000101010100000000011000010110000000110100101000000001001110000000010000000000001011000001011000100001110001000000000100000001011100110011000100010100000001000011000101101000010000000001000000000100001010001000000000000010010010000100000010010000011000001010010001100011110101000000000111010000000110010001000000000111101000000000101010001000011100000000000001100000010100100000000000000000000111001101101000010001010000000101100000000011000000100001000101000010101010000000001101000000100000001101100001000000000001100001000000010000001001000000010010101001000011100000110000010010001000000000011000001000011100100000000101001000010001'"
            ]
          },
          "metadata": {
            "tags": []
          },
          "execution_count": 14
        }
      ]
    },
    {
      "cell_type": "code",
      "metadata": {
        "id": "BWYTXUlq--kK"
      },
      "source": [
        "bits = [ list(x.ToBitString()) for x in fps ]"
      ],
      "execution_count": null,
      "outputs": []
    },
    {
      "cell_type": "code",
      "metadata": {
        "id": "J647i7x---kK",
        "outputId": "f279bb94-6683-49d7-eed4-5c7ac4b20ebe"
      },
      "source": [
        "type(bits)"
      ],
      "execution_count": null,
      "outputs": [
        {
          "output_type": "execute_result",
          "data": {
            "text/plain": [
              "list"
            ]
          },
          "metadata": {
            "tags": []
          },
          "execution_count": 16
        }
      ]
    },
    {
      "cell_type": "code",
      "metadata": {
        "id": "IchjbEl3--kL"
      },
      "source": [
        "# bits[0]"
      ],
      "execution_count": null,
      "outputs": []
    },
    {
      "cell_type": "markdown",
      "metadata": {
        "id": "5Ox-B4ZC--kL"
      },
      "source": [
        "## Step 3) Building a machine learning model to predict activity"
      ]
    },
    {
      "cell_type": "code",
      "metadata": {
        "id": "WNsiWLpq--kL"
      },
      "source": [
        "X=pd.DataFrame(bits)"
      ],
      "execution_count": null,
      "outputs": []
    },
    {
      "cell_type": "code",
      "metadata": {
        "id": "U-tkvHUu--kL",
        "outputId": "5a1be671-b7de-4776-fc25-77b3df5262aa"
      },
      "source": [
        "X.shape"
      ],
      "execution_count": null,
      "outputs": [
        {
          "output_type": "execute_result",
          "data": {
            "text/plain": [
              "(100000, 2048)"
            ]
          },
          "metadata": {
            "tags": []
          },
          "execution_count": 19
        }
      ]
    },
    {
      "cell_type": "code",
      "metadata": {
        "id": "JrP64P0b--kL",
        "outputId": "6d0f37f5-146f-4477-b61d-78bc12522998"
      },
      "source": [
        "X.head()"
      ],
      "execution_count": null,
      "outputs": [
        {
          "output_type": "execute_result",
          "data": {
            "text/html": [
              "<div>\n",
              "<style scoped>\n",
              "    .dataframe tbody tr th:only-of-type {\n",
              "        vertical-align: middle;\n",
              "    }\n",
              "\n",
              "    .dataframe tbody tr th {\n",
              "        vertical-align: top;\n",
              "    }\n",
              "\n",
              "    .dataframe thead th {\n",
              "        text-align: right;\n",
              "    }\n",
              "</style>\n",
              "<table border=\"1\" class=\"dataframe\">\n",
              "  <thead>\n",
              "    <tr style=\"text-align: right;\">\n",
              "      <th></th>\n",
              "      <th>0</th>\n",
              "      <th>1</th>\n",
              "      <th>2</th>\n",
              "      <th>3</th>\n",
              "      <th>4</th>\n",
              "      <th>5</th>\n",
              "      <th>6</th>\n",
              "      <th>7</th>\n",
              "      <th>8</th>\n",
              "      <th>9</th>\n",
              "      <th>...</th>\n",
              "      <th>2038</th>\n",
              "      <th>2039</th>\n",
              "      <th>2040</th>\n",
              "      <th>2041</th>\n",
              "      <th>2042</th>\n",
              "      <th>2043</th>\n",
              "      <th>2044</th>\n",
              "      <th>2045</th>\n",
              "      <th>2046</th>\n",
              "      <th>2047</th>\n",
              "    </tr>\n",
              "  </thead>\n",
              "  <tbody>\n",
              "    <tr>\n",
              "      <th>0</th>\n",
              "      <td>0</td>\n",
              "      <td>0</td>\n",
              "      <td>0</td>\n",
              "      <td>0</td>\n",
              "      <td>1</td>\n",
              "      <td>0</td>\n",
              "      <td>0</td>\n",
              "      <td>0</td>\n",
              "      <td>0</td>\n",
              "      <td>0</td>\n",
              "      <td>...</td>\n",
              "      <td>1</td>\n",
              "      <td>0</td>\n",
              "      <td>0</td>\n",
              "      <td>0</td>\n",
              "      <td>0</td>\n",
              "      <td>1</td>\n",
              "      <td>0</td>\n",
              "      <td>0</td>\n",
              "      <td>0</td>\n",
              "      <td>1</td>\n",
              "    </tr>\n",
              "    <tr>\n",
              "      <th>1</th>\n",
              "      <td>1</td>\n",
              "      <td>1</td>\n",
              "      <td>1</td>\n",
              "      <td>1</td>\n",
              "      <td>1</td>\n",
              "      <td>1</td>\n",
              "      <td>0</td>\n",
              "      <td>0</td>\n",
              "      <td>0</td>\n",
              "      <td>1</td>\n",
              "      <td>...</td>\n",
              "      <td>0</td>\n",
              "      <td>1</td>\n",
              "      <td>1</td>\n",
              "      <td>1</td>\n",
              "      <td>1</td>\n",
              "      <td>1</td>\n",
              "      <td>0</td>\n",
              "      <td>1</td>\n",
              "      <td>1</td>\n",
              "      <td>1</td>\n",
              "    </tr>\n",
              "    <tr>\n",
              "      <th>2</th>\n",
              "      <td>1</td>\n",
              "      <td>0</td>\n",
              "      <td>1</td>\n",
              "      <td>1</td>\n",
              "      <td>0</td>\n",
              "      <td>1</td>\n",
              "      <td>0</td>\n",
              "      <td>1</td>\n",
              "      <td>1</td>\n",
              "      <td>0</td>\n",
              "      <td>...</td>\n",
              "      <td>0</td>\n",
              "      <td>0</td>\n",
              "      <td>0</td>\n",
              "      <td>1</td>\n",
              "      <td>0</td>\n",
              "      <td>0</td>\n",
              "      <td>1</td>\n",
              "      <td>0</td>\n",
              "      <td>0</td>\n",
              "      <td>1</td>\n",
              "    </tr>\n",
              "    <tr>\n",
              "      <th>3</th>\n",
              "      <td>1</td>\n",
              "      <td>1</td>\n",
              "      <td>0</td>\n",
              "      <td>0</td>\n",
              "      <td>0</td>\n",
              "      <td>0</td>\n",
              "      <td>1</td>\n",
              "      <td>0</td>\n",
              "      <td>1</td>\n",
              "      <td>1</td>\n",
              "      <td>...</td>\n",
              "      <td>0</td>\n",
              "      <td>0</td>\n",
              "      <td>0</td>\n",
              "      <td>1</td>\n",
              "      <td>0</td>\n",
              "      <td>0</td>\n",
              "      <td>1</td>\n",
              "      <td>1</td>\n",
              "      <td>0</td>\n",
              "      <td>1</td>\n",
              "    </tr>\n",
              "    <tr>\n",
              "      <th>4</th>\n",
              "      <td>0</td>\n",
              "      <td>0</td>\n",
              "      <td>0</td>\n",
              "      <td>0</td>\n",
              "      <td>0</td>\n",
              "      <td>1</td>\n",
              "      <td>0</td>\n",
              "      <td>0</td>\n",
              "      <td>1</td>\n",
              "      <td>1</td>\n",
              "      <td>...</td>\n",
              "      <td>0</td>\n",
              "      <td>0</td>\n",
              "      <td>0</td>\n",
              "      <td>0</td>\n",
              "      <td>0</td>\n",
              "      <td>0</td>\n",
              "      <td>1</td>\n",
              "      <td>0</td>\n",
              "      <td>0</td>\n",
              "      <td>0</td>\n",
              "    </tr>\n",
              "  </tbody>\n",
              "</table>\n",
              "<p>5 rows × 2048 columns</p>\n",
              "</div>"
            ],
            "text/plain": [
              "  0    1    2    3    4    5    6    7    8    9     ... 2038 2039 2040 2041  \\\n",
              "0    0    0    0    0    1    0    0    0    0    0  ...    1    0    0    0   \n",
              "1    1    1    1    1    1    1    0    0    0    1  ...    0    1    1    1   \n",
              "2    1    0    1    1    0    1    0    1    1    0  ...    0    0    0    1   \n",
              "3    1    1    0    0    0    0    1    0    1    1  ...    0    0    0    1   \n",
              "4    0    0    0    0    0    1    0    0    1    1  ...    0    0    0    0   \n",
              "\n",
              "  2042 2043 2044 2045 2046 2047  \n",
              "0    0    1    0    0    0    1  \n",
              "1    1    1    0    1    1    1  \n",
              "2    0    0    1    0    0    1  \n",
              "3    0    0    1    1    0    1  \n",
              "4    0    0    1    0    0    0  \n",
              "\n",
              "[5 rows x 2048 columns]"
            ]
          },
          "metadata": {
            "tags": []
          },
          "execution_count": 20
        }
      ]
    },
    {
      "cell_type": "code",
      "metadata": {
        "id": "ADKKvomb--kM"
      },
      "source": [
        "Y=df['class']"
      ],
      "execution_count": null,
      "outputs": []
    },
    {
      "cell_type": "code",
      "metadata": {
        "id": "QMZ-doHN--kM",
        "outputId": "80f8ef83-eb0d-4531-8df9-ec6205d23e98"
      },
      "source": [
        "Y.head()"
      ],
      "execution_count": null,
      "outputs": [
        {
          "output_type": "execute_result",
          "data": {
            "text/plain": [
              "5057    1\n",
              "3687    1\n",
              "4622    1\n",
              "5226    1\n",
              "715     1\n",
              "Name: class, dtype: int64"
            ]
          },
          "metadata": {
            "tags": []
          },
          "execution_count": 22
        }
      ]
    },
    {
      "cell_type": "code",
      "metadata": {
        "id": "JnGINbk1--kM",
        "outputId": "d15a35e2-a9b4-4656-c0e6-c55760e90270"
      },
      "source": [
        "X.shape, Y.shape"
      ],
      "execution_count": null,
      "outputs": [
        {
          "output_type": "execute_result",
          "data": {
            "text/plain": [
              "((100000, 2048), (100000,))"
            ]
          },
          "metadata": {
            "tags": []
          },
          "execution_count": 23
        }
      ]
    },
    {
      "cell_type": "markdown",
      "metadata": {
        "id": "kwR96jPL--kM"
      },
      "source": [
        "## Splitting dataset"
      ]
    },
    {
      "cell_type": "code",
      "metadata": {
        "id": "J6AilKLF--kM"
      },
      "source": [
        "from sklearn.model_selection import train_test_split"
      ],
      "execution_count": null,
      "outputs": []
    },
    {
      "cell_type": "code",
      "metadata": {
        "id": "6KokLNoM--kM"
      },
      "source": [
        "X_train, X_test, Y_train, Y_test = train_test_split( X, Y, test_size=0.2, stratify=Y )"
      ],
      "execution_count": null,
      "outputs": []
    },
    {
      "cell_type": "code",
      "metadata": {
        "id": "8Uc4hHHR--kN",
        "outputId": "574b507e-7cce-4711-a106-6e68cdf900db"
      },
      "source": [
        "Y_train[Y_train==1].shape, Y_train[Y_train==0].shape"
      ],
      "execution_count": null,
      "outputs": [
        {
          "output_type": "execute_result",
          "data": {
            "text/plain": [
              "((4250,), (75750,))"
            ]
          },
          "metadata": {
            "tags": []
          },
          "execution_count": 26
        }
      ]
    },
    {
      "cell_type": "code",
      "metadata": {
        "id": "owTokWFd--kN",
        "outputId": "14ab12c3-0dd1-43ff-eb5a-f9b48a96dea0"
      },
      "source": [
        "Y_test[Y_test==1].shape, Y_test[Y_test==0].shape\n",
        "# แสดงว่า stratify มีผล"
      ],
      "execution_count": null,
      "outputs": [
        {
          "output_type": "execute_result",
          "data": {
            "text/plain": [
              "((1062,), (18938,))"
            ]
          },
          "metadata": {
            "tags": []
          },
          "execution_count": 27
        }
      ]
    },
    {
      "cell_type": "code",
      "metadata": {
        "id": "yZPw-9GB--kN"
      },
      "source": [
        "from sklearn import tree"
      ],
      "execution_count": null,
      "outputs": []
    },
    {
      "cell_type": "markdown",
      "metadata": {
        "id": "nJgBY9yB--kN"
      },
      "source": [
        "### An example of a tree\n",
        "<img src=\"fig/tree_example.png\">"
      ]
    },
    {
      "cell_type": "markdown",
      "metadata": {
        "id": "p-Ip4pZP--kN"
      },
      "source": [
        "### Building Decision Tree Model"
      ]
    },
    {
      "cell_type": "code",
      "metadata": {
        "id": "dX6ZP3Zu--kO"
      },
      "source": [
        "clf=tree.DecisionTreeClassifier()"
      ],
      "execution_count": null,
      "outputs": []
    },
    {
      "cell_type": "code",
      "metadata": {
        "id": "n_6cpyKh--kO"
      },
      "source": [
        "clf=clf.fit(X_train, Y_train)"
      ],
      "execution_count": null,
      "outputs": []
    },
    {
      "cell_type": "markdown",
      "metadata": {
        "id": "VwM53Mnl--kO"
      },
      "source": [
        "### Using the Model for Prediction"
      ]
    },
    {
      "cell_type": "code",
      "metadata": {
        "id": "_yKJTaGf--kO"
      },
      "source": [
        "Y_train_pred = clf.predict(X_train)"
      ],
      "execution_count": null,
      "outputs": []
    },
    {
      "cell_type": "code",
      "metadata": {
        "id": "L4Kr2NRW--kO",
        "outputId": "6a01603a-a934-4665-85f2-ff595b9a18cb"
      },
      "source": [
        "Y_train_pred"
      ],
      "execution_count": null,
      "outputs": [
        {
          "output_type": "execute_result",
          "data": {
            "text/plain": [
              "array([0, 0, 0, ..., 0, 0, 0], dtype=int64)"
            ]
          },
          "metadata": {
            "tags": []
          },
          "execution_count": 32
        }
      ]
    },
    {
      "cell_type": "markdown",
      "metadata": {
        "id": "tX_GF7OG--kO"
      },
      "source": [
        "### Performance evaluation"
      ]
    },
    {
      "cell_type": "code",
      "metadata": {
        "id": "16qTopb0--kP"
      },
      "source": [
        "from sklearn.metrics import confusion_matrix, classification_report, accuracy_score"
      ],
      "execution_count": null,
      "outputs": []
    },
    {
      "cell_type": "code",
      "metadata": {
        "tags": [],
        "id": "GCWxPjQ7--kP",
        "outputId": "f09b26d9-6a55-46ef-ac67-372ce7f7b161"
      },
      "source": [
        "print( confusion_matrix(Y_train, Y_train_pred) )\n",
        "print( classification_report(Y_train, Y_train_pred) )"
      ],
      "execution_count": null,
      "outputs": [
        {
          "output_type": "stream",
          "text": [
            "[[75742     8]\n",
            " [  343  3907]]\n",
            "              precision    recall  f1-score   support\n",
            "\n",
            "           0       1.00      1.00      1.00     75750\n",
            "           1       1.00      0.92      0.96      4250\n",
            "\n",
            "    accuracy                           1.00     80000\n",
            "   macro avg       1.00      0.96      0.98     80000\n",
            "weighted avg       1.00      1.00      1.00     80000\n",
            "\n"
          ],
          "name": "stdout"
        }
      ]
    },
    {
      "cell_type": "markdown",
      "metadata": {
        "id": "BlNf4HqN--kP"
      },
      "source": [
        "#### Confusion matrix\n",
        "<img src=\"fig/confusion_matrix.jpg\">\n",
        "\n",
        "#### Evaluation Metrices\n",
        "<img src=\"fig/metric.jpeg\">"
      ]
    },
    {
      "cell_type": "markdown",
      "metadata": {
        "id": "ztahtFg8--kP"
      },
      "source": [
        "### Testing our model with test dataset"
      ]
    },
    {
      "cell_type": "code",
      "metadata": {
        "id": "xE_3ey2n--kP"
      },
      "source": [
        "Y_test_pred = clf.predict(X_test)"
      ],
      "execution_count": null,
      "outputs": []
    },
    {
      "cell_type": "code",
      "metadata": {
        "tags": [],
        "id": "JWypV5C3--kP",
        "outputId": "431f4b37-9f64-48ff-9db1-b13604ca0dd8"
      },
      "source": [
        "print( confusion_matrix(Y_test, Y_test_pred) )\n",
        "print( classification_report(Y_test, Y_test_pred) )"
      ],
      "execution_count": null,
      "outputs": [
        {
          "output_type": "stream",
          "text": [
            "[[18145   793]\n",
            " [  514   548]]\n",
            "              precision    recall  f1-score   support\n",
            "\n",
            "           0       0.97      0.96      0.97     18938\n",
            "           1       0.41      0.52      0.46      1062\n",
            "\n",
            "    accuracy                           0.93     20000\n",
            "   macro avg       0.69      0.74      0.71     20000\n",
            "weighted avg       0.94      0.93      0.94     20000\n",
            "\n"
          ],
          "name": "stdout"
        }
      ]
    },
    {
      "cell_type": "code",
      "metadata": {
        "id": "Dmgw0brl--kQ",
        "outputId": "ec457cc2-8b29-44dc-ed83-356f6debe386"
      },
      "source": [
        "print( accuracy_score(Y_test, Y_test_pred) )"
      ],
      "execution_count": null,
      "outputs": [
        {
          "output_type": "stream",
          "text": [
            "0.93465\n"
          ],
          "name": "stdout"
        }
      ]
    },
    {
      "cell_type": "code",
      "metadata": {
        "id": "gZ7l133E--kQ"
      },
      "source": [
        "stop = datetime.now()"
      ],
      "execution_count": null,
      "outputs": []
    },
    {
      "cell_type": "markdown",
      "metadata": {
        "id": "axJNY5gU--kQ"
      },
      "source": [
        "### Visualizing our Tree"
      ]
    },
    {
      "cell_type": "code",
      "metadata": {
        "id": "4wZH5e2U--kQ"
      },
      "source": [
        "# import matplotlib.pyplot as plt"
      ],
      "execution_count": null,
      "outputs": []
    },
    {
      "cell_type": "code",
      "metadata": {
        "scrolled": false,
        "tags": [],
        "id": "7v0UG03c--kQ"
      },
      "source": [
        "# tree.plot_tree(clf, filled=True)"
      ],
      "execution_count": null,
      "outputs": []
    },
    {
      "cell_type": "code",
      "metadata": {
        "tags": [],
        "id": "jGelL1IX--kR"
      },
      "source": [
        "# !conda install -c conda-forge python-graphviz\n",
        "# !pip install graphviz\n",
        "# conda install graphviz\n",
        "# conda install python-graphviz\n",
        "# pip install pydotplus"
      ],
      "execution_count": null,
      "outputs": []
    },
    {
      "cell_type": "code",
      "metadata": {
        "id": "89cb22Wo--kR"
      },
      "source": [
        "# import graphviz"
      ],
      "execution_count": null,
      "outputs": []
    },
    {
      "cell_type": "code",
      "metadata": {
        "id": "4_G7-NmO--kR"
      },
      "source": [
        "# dot_data = tree.export_graphviz(clf, out_file=None)"
      ],
      "execution_count": null,
      "outputs": []
    },
    {
      "cell_type": "code",
      "metadata": {
        "id": "QXR1xYga--kR"
      },
      "source": [
        "# import pydotplus"
      ],
      "execution_count": null,
      "outputs": []
    },
    {
      "cell_type": "code",
      "metadata": {
        "id": "u2D50i5n--kR"
      },
      "source": [
        "# graph = pydotplus.graph_from_dot_data(dot_data)"
      ],
      "execution_count": null,
      "outputs": []
    },
    {
      "cell_type": "code",
      "metadata": {
        "id": "eiKezqia--kR"
      },
      "source": [
        "# from IPython.display import Image "
      ],
      "execution_count": null,
      "outputs": []
    },
    {
      "cell_type": "code",
      "metadata": {
        "tags": [],
        "id": "i_vh4-8Z--kR"
      },
      "source": [
        "# Image(graph.create_png())"
      ],
      "execution_count": null,
      "outputs": []
    },
    {
      "cell_type": "code",
      "metadata": {
        "id": "is8Iva3E--kS"
      },
      "source": [
        "# graph.write_pdf('tree.pdf')"
      ],
      "execution_count": null,
      "outputs": []
    },
    {
      "cell_type": "code",
      "metadata": {
        "id": "Vq8UQDeu--kS",
        "outputId": "e904c03d-6476-4f5d-805d-12579baa5b22"
      },
      "source": [
        "all600=pd.read_csv('all600.csv', header=0)\n",
        "all600"
      ],
      "execution_count": null,
      "outputs": [
        {
          "output_type": "execute_result",
          "data": {
            "text/html": [
              "<div>\n",
              "<style scoped>\n",
              "    .dataframe tbody tr th:only-of-type {\n",
              "        vertical-align: middle;\n",
              "    }\n",
              "\n",
              "    .dataframe tbody tr th {\n",
              "        vertical-align: top;\n",
              "    }\n",
              "\n",
              "    .dataframe thead th {\n",
              "        text-align: right;\n",
              "    }\n",
              "</style>\n",
              "<table border=\"1\" class=\"dataframe\">\n",
              "  <thead>\n",
              "    <tr style=\"text-align: right;\">\n",
              "      <th></th>\n",
              "      <th>Unnamed: 0</th>\n",
              "      <th>class</th>\n",
              "      <th>CID</th>\n",
              "      <th>smiles</th>\n",
              "    </tr>\n",
              "  </thead>\n",
              "  <tbody>\n",
              "    <tr>\n",
              "      <th>0</th>\n",
              "      <td>1</td>\n",
              "      <td>1</td>\n",
              "      <td>1001</td>\n",
              "      <td>CCCCCCCCCCCCCC[C@H](C(=O)N[C@H]([C@@H](/C=C/CC...</td>\n",
              "    </tr>\n",
              "    <tr>\n",
              "      <th>1</th>\n",
              "      <td>2</td>\n",
              "      <td>1</td>\n",
              "      <td>1002</td>\n",
              "      <td>CCCCCCCCCCCCCCCC[C@H](C(=O)N[C@H]([C@@H](/C=C/...</td>\n",
              "    </tr>\n",
              "    <tr>\n",
              "      <th>2</th>\n",
              "      <td>3</td>\n",
              "      <td>1</td>\n",
              "      <td>1003</td>\n",
              "      <td>OC(=O)CC[Ge](=O)O[Ge](=O)CCC(=O)O</td>\n",
              "    </tr>\n",
              "    <tr>\n",
              "      <th>3</th>\n",
              "      <td>4</td>\n",
              "      <td>1</td>\n",
              "      <td>9999</td>\n",
              "      <td>CCCCCCCCCC</td>\n",
              "    </tr>\n",
              "    <tr>\n",
              "      <th>4</th>\n",
              "      <td>5</td>\n",
              "      <td>1</td>\n",
              "      <td>1005</td>\n",
              "      <td>OC/C(=C/CC[C@H]([C@H]1CC[C@@]2([C@]1(C)CC=C1C2...</td>\n",
              "    </tr>\n",
              "    <tr>\n",
              "      <th>...</th>\n",
              "      <td>...</td>\n",
              "      <td>...</td>\n",
              "      <td>...</td>\n",
              "      <td>...</td>\n",
              "    </tr>\n",
              "    <tr>\n",
              "      <th>595</th>\n",
              "      <td>596</td>\n",
              "      <td>1</td>\n",
              "      <td>999999</td>\n",
              "      <td>CCCCCCC</td>\n",
              "    </tr>\n",
              "    <tr>\n",
              "      <th>596</th>\n",
              "      <td>597</td>\n",
              "      <td>1</td>\n",
              "      <td>999999</td>\n",
              "      <td>CCCCCCC</td>\n",
              "    </tr>\n",
              "    <tr>\n",
              "      <th>597</th>\n",
              "      <td>598</td>\n",
              "      <td>1</td>\n",
              "      <td>999999</td>\n",
              "      <td>CCCCCCC</td>\n",
              "    </tr>\n",
              "    <tr>\n",
              "      <th>598</th>\n",
              "      <td>599</td>\n",
              "      <td>1</td>\n",
              "      <td>999999</td>\n",
              "      <td>CCCCCCC</td>\n",
              "    </tr>\n",
              "    <tr>\n",
              "      <th>599</th>\n",
              "      <td>600</td>\n",
              "      <td>1</td>\n",
              "      <td>999999</td>\n",
              "      <td>CCCCCCC</td>\n",
              "    </tr>\n",
              "  </tbody>\n",
              "</table>\n",
              "<p>600 rows × 4 columns</p>\n",
              "</div>"
            ],
            "text/plain": [
              "     Unnamed: 0  class     CID  \\\n",
              "0             1      1    1001   \n",
              "1             2      1    1002   \n",
              "2             3      1    1003   \n",
              "3             4      1    9999   \n",
              "4             5      1    1005   \n",
              "..          ...    ...     ...   \n",
              "595         596      1  999999   \n",
              "596         597      1  999999   \n",
              "597         598      1  999999   \n",
              "598         599      1  999999   \n",
              "599         600      1  999999   \n",
              "\n",
              "                                                smiles  \n",
              "0    CCCCCCCCCCCCCC[C@H](C(=O)N[C@H]([C@@H](/C=C/CC...  \n",
              "1    CCCCCCCCCCCCCCCC[C@H](C(=O)N[C@H]([C@@H](/C=C/...  \n",
              "2                    OC(=O)CC[Ge](=O)O[Ge](=O)CCC(=O)O  \n",
              "3                                           CCCCCCCCCC  \n",
              "4    OC/C(=C/CC[C@H]([C@H]1CC[C@@]2([C@]1(C)CC=C1C2...  \n",
              "..                                                 ...  \n",
              "595                                            CCCCCCC  \n",
              "596                                            CCCCCCC  \n",
              "597                                            CCCCCCC  \n",
              "598                                            CCCCCCC  \n",
              "599                                            CCCCCCC  \n",
              "\n",
              "[600 rows x 4 columns]"
            ]
          },
          "metadata": {
            "tags": []
          },
          "execution_count": 49
        }
      ]
    },
    {
      "cell_type": "code",
      "metadata": {
        "id": "PSTMZraO--kS",
        "outputId": "9c6c883f-5817-4db4-c6c9-959e0f1f2135"
      },
      "source": [
        "new_mols = [ Chem.MolFromSmiles(x) for x in all600['smiles'] ]\n",
        "new_fps = [ Chem.RDKFingerprint(x) for x in new_mols ]\n",
        "new_bits = [ list(x.ToBitString()) for x in new_fps  ]\n",
        "all600_input = pd.DataFrame(new_bits)\n",
        "all600_input"
      ],
      "execution_count": null,
      "outputs": [
        {
          "output_type": "execute_result",
          "data": {
            "text/html": [
              "<div>\n",
              "<style scoped>\n",
              "    .dataframe tbody tr th:only-of-type {\n",
              "        vertical-align: middle;\n",
              "    }\n",
              "\n",
              "    .dataframe tbody tr th {\n",
              "        vertical-align: top;\n",
              "    }\n",
              "\n",
              "    .dataframe thead th {\n",
              "        text-align: right;\n",
              "    }\n",
              "</style>\n",
              "<table border=\"1\" class=\"dataframe\">\n",
              "  <thead>\n",
              "    <tr style=\"text-align: right;\">\n",
              "      <th></th>\n",
              "      <th>0</th>\n",
              "      <th>1</th>\n",
              "      <th>2</th>\n",
              "      <th>3</th>\n",
              "      <th>4</th>\n",
              "      <th>5</th>\n",
              "      <th>6</th>\n",
              "      <th>7</th>\n",
              "      <th>8</th>\n",
              "      <th>9</th>\n",
              "      <th>...</th>\n",
              "      <th>2038</th>\n",
              "      <th>2039</th>\n",
              "      <th>2040</th>\n",
              "      <th>2041</th>\n",
              "      <th>2042</th>\n",
              "      <th>2043</th>\n",
              "      <th>2044</th>\n",
              "      <th>2045</th>\n",
              "      <th>2046</th>\n",
              "      <th>2047</th>\n",
              "    </tr>\n",
              "  </thead>\n",
              "  <tbody>\n",
              "    <tr>\n",
              "      <th>0</th>\n",
              "      <td>1</td>\n",
              "      <td>0</td>\n",
              "      <td>0</td>\n",
              "      <td>0</td>\n",
              "      <td>0</td>\n",
              "      <td>1</td>\n",
              "      <td>0</td>\n",
              "      <td>0</td>\n",
              "      <td>1</td>\n",
              "      <td>0</td>\n",
              "      <td>...</td>\n",
              "      <td>1</td>\n",
              "      <td>0</td>\n",
              "      <td>0</td>\n",
              "      <td>0</td>\n",
              "      <td>0</td>\n",
              "      <td>1</td>\n",
              "      <td>1</td>\n",
              "      <td>0</td>\n",
              "      <td>0</td>\n",
              "      <td>1</td>\n",
              "    </tr>\n",
              "    <tr>\n",
              "      <th>1</th>\n",
              "      <td>1</td>\n",
              "      <td>0</td>\n",
              "      <td>0</td>\n",
              "      <td>0</td>\n",
              "      <td>0</td>\n",
              "      <td>1</td>\n",
              "      <td>0</td>\n",
              "      <td>0</td>\n",
              "      <td>1</td>\n",
              "      <td>0</td>\n",
              "      <td>...</td>\n",
              "      <td>1</td>\n",
              "      <td>0</td>\n",
              "      <td>0</td>\n",
              "      <td>0</td>\n",
              "      <td>0</td>\n",
              "      <td>1</td>\n",
              "      <td>1</td>\n",
              "      <td>0</td>\n",
              "      <td>0</td>\n",
              "      <td>1</td>\n",
              "    </tr>\n",
              "    <tr>\n",
              "      <th>2</th>\n",
              "      <td>0</td>\n",
              "      <td>0</td>\n",
              "      <td>1</td>\n",
              "      <td>0</td>\n",
              "      <td>0</td>\n",
              "      <td>0</td>\n",
              "      <td>0</td>\n",
              "      <td>0</td>\n",
              "      <td>0</td>\n",
              "      <td>0</td>\n",
              "      <td>...</td>\n",
              "      <td>0</td>\n",
              "      <td>0</td>\n",
              "      <td>0</td>\n",
              "      <td>0</td>\n",
              "      <td>0</td>\n",
              "      <td>0</td>\n",
              "      <td>0</td>\n",
              "      <td>0</td>\n",
              "      <td>0</td>\n",
              "      <td>0</td>\n",
              "    </tr>\n",
              "    <tr>\n",
              "      <th>3</th>\n",
              "      <td>0</td>\n",
              "      <td>0</td>\n",
              "      <td>0</td>\n",
              "      <td>0</td>\n",
              "      <td>0</td>\n",
              "      <td>0</td>\n",
              "      <td>0</td>\n",
              "      <td>0</td>\n",
              "      <td>0</td>\n",
              "      <td>0</td>\n",
              "      <td>...</td>\n",
              "      <td>0</td>\n",
              "      <td>0</td>\n",
              "      <td>0</td>\n",
              "      <td>0</td>\n",
              "      <td>0</td>\n",
              "      <td>0</td>\n",
              "      <td>0</td>\n",
              "      <td>0</td>\n",
              "      <td>0</td>\n",
              "      <td>0</td>\n",
              "    </tr>\n",
              "    <tr>\n",
              "      <th>4</th>\n",
              "      <td>0</td>\n",
              "      <td>0</td>\n",
              "      <td>0</td>\n",
              "      <td>0</td>\n",
              "      <td>0</td>\n",
              "      <td>0</td>\n",
              "      <td>1</td>\n",
              "      <td>0</td>\n",
              "      <td>1</td>\n",
              "      <td>0</td>\n",
              "      <td>...</td>\n",
              "      <td>1</td>\n",
              "      <td>0</td>\n",
              "      <td>0</td>\n",
              "      <td>1</td>\n",
              "      <td>0</td>\n",
              "      <td>0</td>\n",
              "      <td>0</td>\n",
              "      <td>0</td>\n",
              "      <td>0</td>\n",
              "      <td>0</td>\n",
              "    </tr>\n",
              "    <tr>\n",
              "      <th>...</th>\n",
              "      <td>...</td>\n",
              "      <td>...</td>\n",
              "      <td>...</td>\n",
              "      <td>...</td>\n",
              "      <td>...</td>\n",
              "      <td>...</td>\n",
              "      <td>...</td>\n",
              "      <td>...</td>\n",
              "      <td>...</td>\n",
              "      <td>...</td>\n",
              "      <td>...</td>\n",
              "      <td>...</td>\n",
              "      <td>...</td>\n",
              "      <td>...</td>\n",
              "      <td>...</td>\n",
              "      <td>...</td>\n",
              "      <td>...</td>\n",
              "      <td>...</td>\n",
              "      <td>...</td>\n",
              "      <td>...</td>\n",
              "      <td>...</td>\n",
              "    </tr>\n",
              "    <tr>\n",
              "      <th>595</th>\n",
              "      <td>0</td>\n",
              "      <td>0</td>\n",
              "      <td>0</td>\n",
              "      <td>0</td>\n",
              "      <td>0</td>\n",
              "      <td>0</td>\n",
              "      <td>0</td>\n",
              "      <td>0</td>\n",
              "      <td>0</td>\n",
              "      <td>0</td>\n",
              "      <td>...</td>\n",
              "      <td>0</td>\n",
              "      <td>0</td>\n",
              "      <td>0</td>\n",
              "      <td>0</td>\n",
              "      <td>0</td>\n",
              "      <td>0</td>\n",
              "      <td>0</td>\n",
              "      <td>0</td>\n",
              "      <td>0</td>\n",
              "      <td>0</td>\n",
              "    </tr>\n",
              "    <tr>\n",
              "      <th>596</th>\n",
              "      <td>0</td>\n",
              "      <td>0</td>\n",
              "      <td>0</td>\n",
              "      <td>0</td>\n",
              "      <td>0</td>\n",
              "      <td>0</td>\n",
              "      <td>0</td>\n",
              "      <td>0</td>\n",
              "      <td>0</td>\n",
              "      <td>0</td>\n",
              "      <td>...</td>\n",
              "      <td>0</td>\n",
              "      <td>0</td>\n",
              "      <td>0</td>\n",
              "      <td>0</td>\n",
              "      <td>0</td>\n",
              "      <td>0</td>\n",
              "      <td>0</td>\n",
              "      <td>0</td>\n",
              "      <td>0</td>\n",
              "      <td>0</td>\n",
              "    </tr>\n",
              "    <tr>\n",
              "      <th>597</th>\n",
              "      <td>0</td>\n",
              "      <td>0</td>\n",
              "      <td>0</td>\n",
              "      <td>0</td>\n",
              "      <td>0</td>\n",
              "      <td>0</td>\n",
              "      <td>0</td>\n",
              "      <td>0</td>\n",
              "      <td>0</td>\n",
              "      <td>0</td>\n",
              "      <td>...</td>\n",
              "      <td>0</td>\n",
              "      <td>0</td>\n",
              "      <td>0</td>\n",
              "      <td>0</td>\n",
              "      <td>0</td>\n",
              "      <td>0</td>\n",
              "      <td>0</td>\n",
              "      <td>0</td>\n",
              "      <td>0</td>\n",
              "      <td>0</td>\n",
              "    </tr>\n",
              "    <tr>\n",
              "      <th>598</th>\n",
              "      <td>0</td>\n",
              "      <td>0</td>\n",
              "      <td>0</td>\n",
              "      <td>0</td>\n",
              "      <td>0</td>\n",
              "      <td>0</td>\n",
              "      <td>0</td>\n",
              "      <td>0</td>\n",
              "      <td>0</td>\n",
              "      <td>0</td>\n",
              "      <td>...</td>\n",
              "      <td>0</td>\n",
              "      <td>0</td>\n",
              "      <td>0</td>\n",
              "      <td>0</td>\n",
              "      <td>0</td>\n",
              "      <td>0</td>\n",
              "      <td>0</td>\n",
              "      <td>0</td>\n",
              "      <td>0</td>\n",
              "      <td>0</td>\n",
              "    </tr>\n",
              "    <tr>\n",
              "      <th>599</th>\n",
              "      <td>0</td>\n",
              "      <td>0</td>\n",
              "      <td>0</td>\n",
              "      <td>0</td>\n",
              "      <td>0</td>\n",
              "      <td>0</td>\n",
              "      <td>0</td>\n",
              "      <td>0</td>\n",
              "      <td>0</td>\n",
              "      <td>0</td>\n",
              "      <td>...</td>\n",
              "      <td>0</td>\n",
              "      <td>0</td>\n",
              "      <td>0</td>\n",
              "      <td>0</td>\n",
              "      <td>0</td>\n",
              "      <td>0</td>\n",
              "      <td>0</td>\n",
              "      <td>0</td>\n",
              "      <td>0</td>\n",
              "      <td>0</td>\n",
              "    </tr>\n",
              "  </tbody>\n",
              "</table>\n",
              "<p>600 rows × 2048 columns</p>\n",
              "</div>"
            ],
            "text/plain": [
              "    0    1    2    3    4    5    6    7    8    9     ... 2038 2039 2040  \\\n",
              "0      1    0    0    0    0    1    0    0    1    0  ...    1    0    0   \n",
              "1      1    0    0    0    0    1    0    0    1    0  ...    1    0    0   \n",
              "2      0    0    1    0    0    0    0    0    0    0  ...    0    0    0   \n",
              "3      0    0    0    0    0    0    0    0    0    0  ...    0    0    0   \n",
              "4      0    0    0    0    0    0    1    0    1    0  ...    1    0    0   \n",
              "..   ...  ...  ...  ...  ...  ...  ...  ...  ...  ...  ...  ...  ...  ...   \n",
              "595    0    0    0    0    0    0    0    0    0    0  ...    0    0    0   \n",
              "596    0    0    0    0    0    0    0    0    0    0  ...    0    0    0   \n",
              "597    0    0    0    0    0    0    0    0    0    0  ...    0    0    0   \n",
              "598    0    0    0    0    0    0    0    0    0    0  ...    0    0    0   \n",
              "599    0    0    0    0    0    0    0    0    0    0  ...    0    0    0   \n",
              "\n",
              "    2041 2042 2043 2044 2045 2046 2047  \n",
              "0      0    0    1    1    0    0    1  \n",
              "1      0    0    1    1    0    0    1  \n",
              "2      0    0    0    0    0    0    0  \n",
              "3      0    0    0    0    0    0    0  \n",
              "4      1    0    0    0    0    0    0  \n",
              "..   ...  ...  ...  ...  ...  ...  ...  \n",
              "595    0    0    0    0    0    0    0  \n",
              "596    0    0    0    0    0    0    0  \n",
              "597    0    0    0    0    0    0    0  \n",
              "598    0    0    0    0    0    0    0  \n",
              "599    0    0    0    0    0    0    0  \n",
              "\n",
              "[600 rows x 2048 columns]"
            ]
          },
          "metadata": {
            "tags": []
          },
          "execution_count": 50
        }
      ]
    },
    {
      "cell_type": "code",
      "metadata": {
        "id": "G2XVS-4c--kS",
        "outputId": "7de1efa5-cbc6-4f3c-f168-69867b6fbbbf"
      },
      "source": [
        "all600_pred = clf.predict(all600_input)\n",
        "all600_pred"
      ],
      "execution_count": null,
      "outputs": [
        {
          "output_type": "execute_result",
          "data": {
            "text/plain": [
              "array([1, 1, 0, 0, 0, 1, 0, 0, 0, 1, 0, 0, 0, 0, 0, 1, 0, 0, 0, 0, 0, 0,\n",
              "       0, 0, 1, 1, 1, 0, 0, 0, 0, 1, 1, 1, 1, 1, 1, 1, 0, 0, 0, 1, 0, 1,\n",
              "       0, 1, 1, 0, 0, 0, 0, 0, 1, 1, 0, 0, 0, 0, 0, 1, 0, 1, 0, 0, 1, 1,\n",
              "       0, 1, 0, 1, 1, 0, 0, 0, 0, 0, 0, 1, 0, 1, 1, 0, 1, 0, 1, 1, 0, 0,\n",
              "       0, 0, 1, 1, 0, 1, 1, 1, 0, 0, 0, 1, 0, 0, 0, 0, 0, 0, 0, 1, 1, 0,\n",
              "       0, 0, 0, 0, 0, 1, 0, 1, 0, 0, 1, 0, 1, 1, 1, 0, 0, 0, 0, 1, 0, 1,\n",
              "       0, 1, 1, 0, 1, 1, 1, 1, 0, 1, 1, 0, 0, 1, 1, 0, 0, 0, 1, 0, 1, 0,\n",
              "       0, 1, 0, 0, 0, 0, 0, 1, 1, 1, 0, 0, 0, 0, 0, 0, 0, 0, 0, 0, 0, 0,\n",
              "       1, 0, 1, 0, 0, 1, 1, 0, 0, 0, 1, 1, 1, 0, 0, 0, 0, 1, 0, 0, 0, 0,\n",
              "       0, 0, 0, 1, 0, 0, 1, 1, 1, 0, 0, 0, 1, 0, 0, 0, 1, 1, 0, 0, 1, 0,\n",
              "       0, 0, 1, 0, 0, 0, 0, 0, 0, 1, 1, 0, 1, 0, 0, 1, 1, 1, 1, 0, 0, 0,\n",
              "       0, 0, 0, 0, 0, 0, 0, 0, 0, 0, 0, 0, 0, 0, 0, 0, 0, 0, 0, 0, 1, 0,\n",
              "       0, 0, 0, 1, 1, 0, 0, 1, 0, 0, 0, 0, 0, 0, 0, 0, 0, 0, 0, 0, 0, 0,\n",
              "       0, 0, 0, 0, 0, 0, 0, 1, 0, 0, 0, 0, 0, 0, 0, 0, 0, 0, 0, 0, 0, 0,\n",
              "       0, 0, 0, 0, 0, 0, 0, 0, 0, 0, 0, 0, 1, 0, 0, 0, 0, 0, 0, 0, 0, 0,\n",
              "       0, 1, 0, 0, 0, 0, 0, 0, 0, 0, 0, 0, 0, 0, 0, 0, 0, 0, 0, 0, 0, 0,\n",
              "       0, 0, 0, 0, 0, 0, 0, 0, 0, 0, 0, 0, 0, 0, 0, 0, 0, 0, 0, 0, 0, 0,\n",
              "       0, 1, 1, 1, 0, 0, 0, 1, 1, 1, 0, 0, 0, 0, 0, 1, 0, 0, 1, 0, 0, 0,\n",
              "       0, 0, 0, 0, 1, 1, 1, 0, 1, 0, 0, 0, 0, 0, 0, 0, 0, 0, 0, 0, 0, 0,\n",
              "       0, 0, 0, 1, 0, 0, 0, 0, 0, 0, 1, 0, 0, 0, 0, 0, 0, 0, 0, 0, 0, 0,\n",
              "       0, 0, 0, 0, 0, 0, 0, 0, 0, 0, 0, 0, 0, 0, 0, 0, 0, 0, 0, 1, 0, 0,\n",
              "       0, 0, 0, 1, 1, 1, 0, 0, 0, 0, 0, 0, 0, 0, 0, 0, 0, 0, 0, 0, 1, 0,\n",
              "       0, 0, 0, 0, 0, 0, 0, 0, 0, 0, 0, 0, 0, 0, 0, 0, 0, 0, 0, 0, 0, 0,\n",
              "       0, 0, 1, 0, 0, 0, 0, 0, 0, 0, 0, 0, 0, 0, 0, 0, 0, 0, 0, 1, 0, 1,\n",
              "       0, 0, 0, 0, 0, 0, 0, 0, 1, 0, 0, 0, 0, 0, 0, 0, 0, 0, 0, 0, 0, 0,\n",
              "       0, 0, 0, 0, 0, 0, 0, 0, 1, 1, 1, 0, 0, 0, 0, 0, 0, 0, 1, 0, 1, 1,\n",
              "       1, 0, 0, 0, 0, 0, 0, 1, 1, 0, 1, 0, 0, 0, 1, 0, 1, 1, 1, 0, 0, 0,\n",
              "       0, 0, 0, 0, 0, 0], dtype=int64)"
            ]
          },
          "metadata": {
            "tags": []
          },
          "execution_count": 51
        }
      ]
    },
    {
      "cell_type": "code",
      "metadata": {
        "id": "7OM6EPDj--kS",
        "outputId": "280cd8fc-429a-4ba3-e669-1f86fc1247d2"
      },
      "source": [
        "all600[\"predict\"] = all600_pred\n",
        "all600"
      ],
      "execution_count": null,
      "outputs": [
        {
          "output_type": "execute_result",
          "data": {
            "text/html": [
              "<div>\n",
              "<style scoped>\n",
              "    .dataframe tbody tr th:only-of-type {\n",
              "        vertical-align: middle;\n",
              "    }\n",
              "\n",
              "    .dataframe tbody tr th {\n",
              "        vertical-align: top;\n",
              "    }\n",
              "\n",
              "    .dataframe thead th {\n",
              "        text-align: right;\n",
              "    }\n",
              "</style>\n",
              "<table border=\"1\" class=\"dataframe\">\n",
              "  <thead>\n",
              "    <tr style=\"text-align: right;\">\n",
              "      <th></th>\n",
              "      <th>Unnamed: 0</th>\n",
              "      <th>class</th>\n",
              "      <th>CID</th>\n",
              "      <th>smiles</th>\n",
              "      <th>predict</th>\n",
              "    </tr>\n",
              "  </thead>\n",
              "  <tbody>\n",
              "    <tr>\n",
              "      <th>0</th>\n",
              "      <td>1</td>\n",
              "      <td>1</td>\n",
              "      <td>1001</td>\n",
              "      <td>CCCCCCCCCCCCCC[C@H](C(=O)N[C@H]([C@@H](/C=C/CC...</td>\n",
              "      <td>1</td>\n",
              "    </tr>\n",
              "    <tr>\n",
              "      <th>1</th>\n",
              "      <td>2</td>\n",
              "      <td>1</td>\n",
              "      <td>1002</td>\n",
              "      <td>CCCCCCCCCCCCCCCC[C@H](C(=O)N[C@H]([C@@H](/C=C/...</td>\n",
              "      <td>1</td>\n",
              "    </tr>\n",
              "    <tr>\n",
              "      <th>2</th>\n",
              "      <td>3</td>\n",
              "      <td>1</td>\n",
              "      <td>1003</td>\n",
              "      <td>OC(=O)CC[Ge](=O)O[Ge](=O)CCC(=O)O</td>\n",
              "      <td>0</td>\n",
              "    </tr>\n",
              "    <tr>\n",
              "      <th>3</th>\n",
              "      <td>4</td>\n",
              "      <td>1</td>\n",
              "      <td>9999</td>\n",
              "      <td>CCCCCCCCCC</td>\n",
              "      <td>0</td>\n",
              "    </tr>\n",
              "    <tr>\n",
              "      <th>4</th>\n",
              "      <td>5</td>\n",
              "      <td>1</td>\n",
              "      <td>1005</td>\n",
              "      <td>OC/C(=C/CC[C@H]([C@H]1CC[C@@]2([C@]1(C)CC=C1C2...</td>\n",
              "      <td>0</td>\n",
              "    </tr>\n",
              "    <tr>\n",
              "      <th>...</th>\n",
              "      <td>...</td>\n",
              "      <td>...</td>\n",
              "      <td>...</td>\n",
              "      <td>...</td>\n",
              "      <td>...</td>\n",
              "    </tr>\n",
              "    <tr>\n",
              "      <th>595</th>\n",
              "      <td>596</td>\n",
              "      <td>1</td>\n",
              "      <td>999999</td>\n",
              "      <td>CCCCCCC</td>\n",
              "      <td>0</td>\n",
              "    </tr>\n",
              "    <tr>\n",
              "      <th>596</th>\n",
              "      <td>597</td>\n",
              "      <td>1</td>\n",
              "      <td>999999</td>\n",
              "      <td>CCCCCCC</td>\n",
              "      <td>0</td>\n",
              "    </tr>\n",
              "    <tr>\n",
              "      <th>597</th>\n",
              "      <td>598</td>\n",
              "      <td>1</td>\n",
              "      <td>999999</td>\n",
              "      <td>CCCCCCC</td>\n",
              "      <td>0</td>\n",
              "    </tr>\n",
              "    <tr>\n",
              "      <th>598</th>\n",
              "      <td>599</td>\n",
              "      <td>1</td>\n",
              "      <td>999999</td>\n",
              "      <td>CCCCCCC</td>\n",
              "      <td>0</td>\n",
              "    </tr>\n",
              "    <tr>\n",
              "      <th>599</th>\n",
              "      <td>600</td>\n",
              "      <td>1</td>\n",
              "      <td>999999</td>\n",
              "      <td>CCCCCCC</td>\n",
              "      <td>0</td>\n",
              "    </tr>\n",
              "  </tbody>\n",
              "</table>\n",
              "<p>600 rows × 5 columns</p>\n",
              "</div>"
            ],
            "text/plain": [
              "     Unnamed: 0  class     CID  \\\n",
              "0             1      1    1001   \n",
              "1             2      1    1002   \n",
              "2             3      1    1003   \n",
              "3             4      1    9999   \n",
              "4             5      1    1005   \n",
              "..          ...    ...     ...   \n",
              "595         596      1  999999   \n",
              "596         597      1  999999   \n",
              "597         598      1  999999   \n",
              "598         599      1  999999   \n",
              "599         600      1  999999   \n",
              "\n",
              "                                                smiles  predict  \n",
              "0    CCCCCCCCCCCCCC[C@H](C(=O)N[C@H]([C@@H](/C=C/CC...        1  \n",
              "1    CCCCCCCCCCCCCCCC[C@H](C(=O)N[C@H]([C@@H](/C=C/...        1  \n",
              "2                    OC(=O)CC[Ge](=O)O[Ge](=O)CCC(=O)O        0  \n",
              "3                                           CCCCCCCCCC        0  \n",
              "4    OC/C(=C/CC[C@H]([C@H]1CC[C@@]2([C@]1(C)CC=C1C2...        0  \n",
              "..                                                 ...      ...  \n",
              "595                                            CCCCCCC        0  \n",
              "596                                            CCCCCCC        0  \n",
              "597                                            CCCCCCC        0  \n",
              "598                                            CCCCCCC        0  \n",
              "599                                            CCCCCCC        0  \n",
              "\n",
              "[600 rows x 5 columns]"
            ]
          },
          "metadata": {
            "tags": []
          },
          "execution_count": 52
        }
      ]
    },
    {
      "cell_type": "code",
      "metadata": {
        "id": "HVTChVtM--kT",
        "outputId": "9b8366ce-237f-4de2-d08e-1f1c705d2d03"
      },
      "source": [
        "all600_count = all600.groupby([\"predict\"]).count()\n",
        "all600_count"
      ],
      "execution_count": null,
      "outputs": [
        {
          "output_type": "execute_result",
          "data": {
            "text/html": [
              "<div>\n",
              "<style scoped>\n",
              "    .dataframe tbody tr th:only-of-type {\n",
              "        vertical-align: middle;\n",
              "    }\n",
              "\n",
              "    .dataframe tbody tr th {\n",
              "        vertical-align: top;\n",
              "    }\n",
              "\n",
              "    .dataframe thead th {\n",
              "        text-align: right;\n",
              "    }\n",
              "</style>\n",
              "<table border=\"1\" class=\"dataframe\">\n",
              "  <thead>\n",
              "    <tr style=\"text-align: right;\">\n",
              "      <th></th>\n",
              "      <th>Unnamed: 0</th>\n",
              "      <th>class</th>\n",
              "      <th>CID</th>\n",
              "      <th>smiles</th>\n",
              "    </tr>\n",
              "    <tr>\n",
              "      <th>predict</th>\n",
              "      <th></th>\n",
              "      <th></th>\n",
              "      <th></th>\n",
              "      <th></th>\n",
              "    </tr>\n",
              "  </thead>\n",
              "  <tbody>\n",
              "    <tr>\n",
              "      <th>0</th>\n",
              "      <td>466</td>\n",
              "      <td>466</td>\n",
              "      <td>466</td>\n",
              "      <td>466</td>\n",
              "    </tr>\n",
              "    <tr>\n",
              "      <th>1</th>\n",
              "      <td>134</td>\n",
              "      <td>134</td>\n",
              "      <td>134</td>\n",
              "      <td>134</td>\n",
              "    </tr>\n",
              "  </tbody>\n",
              "</table>\n",
              "</div>"
            ],
            "text/plain": [
              "         Unnamed: 0  class  CID  smiles\n",
              "predict                                \n",
              "0               466    466  466     466\n",
              "1               134    134  134     134"
            ]
          },
          "metadata": {
            "tags": []
          },
          "execution_count": 53
        }
      ]
    },
    {
      "cell_type": "code",
      "metadata": {
        "id": "idME9d8d--kT"
      },
      "source": [
        "all600 = all600[[\"CID\",\"predict\"]]\n",
        "all600.to_csv('all600_pred.csv', index=False)"
      ],
      "execution_count": null,
      "outputs": []
    },
    {
      "cell_type": "code",
      "metadata": {
        "tags": [],
        "id": "jfTQ9zv4--kT",
        "outputId": "f6dacbb9-835e-4f9f-ec2f-2de08dedc4d3"
      },
      "source": [
        "print('Time:', stop - start) "
      ],
      "execution_count": null,
      "outputs": [
        {
          "output_type": "stream",
          "text": [
            "Time: 0:04:13.777674\n"
          ],
          "name": "stdout"
        }
      ]
    },
    {
      "cell_type": "code",
      "metadata": {
        "id": "8znPjDNg--kT"
      },
      "source": [
        ""
      ],
      "execution_count": null,
      "outputs": []
    }
  ]
}